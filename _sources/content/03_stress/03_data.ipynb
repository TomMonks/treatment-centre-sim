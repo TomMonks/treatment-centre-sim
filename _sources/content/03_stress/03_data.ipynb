{
 "cells": [
  {
   "cell_type": "code",
   "execution_count": 1,
   "id": "40a13ca6",
   "metadata": {},
   "outputs": [],
   "source": [
    "import pandas as pd"
   ]
  },
  {
   "cell_type": "markdown",
   "id": "86efee96",
   "metadata": {},
   "source": [
    "# 3. Data\n",
    "\n",
    "## 3.1. Data sources\n",
    "\n",
    "All data are sourced from \n",
    "\n",
    "> *Nelson. B.L. (2013). [Foundations and methods of stochastic simulation](https://www.amazon.co.uk/Foundations-Methods-Stochastic-Simulation-International/dp/1461461596/ref=sr_1_1?dchild=1&keywords=foundations+and+methods+of+stochastic+simulation&qid=1617050801&sr=8-1). Springer.* \n",
    "\n",
    "## 3.2 Pre-processing\n",
    "\n",
    "Non additional pre-processing of data was undertaken.\n",
    "\n",
    "## 3.3. Input parameters\n",
    "\n"
   ]
  },
  {
   "cell_type": "markdown",
   "id": "43c0a7c3",
   "metadata": {},
   "source": [
    "### Time-dependent arrival rate\n",
    "\n",
    "The data for arrival rates varies between clinic opening at 6am and closure at 12am."
   ]
  },
  {
   "cell_type": "code",
   "execution_count": 3,
   "id": "f396fbfa",
   "metadata": {},
   "outputs": [
    {
     "data": {
      "image/png": "[encoded data removed]",
      "text/plain": [
       "<Figure size 648x288 with 1 Axes>"
      ]
     },
     "metadata": {
      "needs_background": "light"
     },
     "output_type": "display_data"
    }
   ],
   "source": [
    "NSPP_PATH = 'https://raw.githubusercontent.com/TomMonks/' \\\n",
    " + 'open-science-for-sim/main/src/notebooks/01_foss_sim/data/ed_arrivals.csv'\n",
    "\n",
    "# visualise\n",
    "ax = pd.read_csv(NSPP_PATH).plot(y='arrival_rate', x='period', rot=45,\n",
    "                                 kind='bar',figsize=(9,4), legend=False)\n",
    "ax.set_xlabel('hour of day')\n",
    "ax.set_ylabel('mean arrivals');"
   ]
  },
  {
   "cell_type": "markdown",
   "id": "f271ee41",
   "metadata": {},
   "source": [
    "## Sampling distributions\n",
    "\n",
    "Distributions were taken again from Nelson (2013)\n",
    "\n",
    "| Activity                                            | Distribution                  |\n",
    "|-----------------------------------------------------|-------------------------------|\n",
    "| Triage                                              | Exponential(3.0)              |\n",
    "| Registration                                        | Log Normal(mean=5.0, var=4.0) |\n",
    "| Examination                                         | Normal(mean=16, var=4.0)      |\n",
    "| Stabilisation                                       | Exponential(90.0)             |\n",
    "| Non-Trauma treatment                                | Lognormal(mean=13.3, var=2.0) |\n",
    "| Trauma treatment                                    | Lognormal(mean=30.0, var=4.0) |\n",
    "| Prob patient requirement treatment given non-trauma | 0.6                           |\n",
    "| Prob patient is trauma                              | 0.12                          |\n"
   ]
  },
  {
   "cell_type": "markdown",
   "id": "5c2b43a1",
   "metadata": {},
   "source": [
    "### 3.4 Assumptions\n",
    "\n",
    "* In this model trauma patients are treated completely seperately from non-trauma."
   ]
  }
 ],
 "metadata": {
  "kernelspec": {
   "display_name": "Python 3 (ipykernel)",
   "language": "python",
   "name": "python3"
  },
  "language_info": {
   "codemirror_mode": {
    "name": "ipython",
    "version": 3
   },
   "file_extension": ".py",
   "mimetype": "text/x-python",
   "name": "python",
   "nbconvert_exporter": "python",
   "pygments_lexer": "ipython3",
   "version": "3.8.12"
  }
 },
 "nbformat": 4,
 "nbformat_minor": 5
}
